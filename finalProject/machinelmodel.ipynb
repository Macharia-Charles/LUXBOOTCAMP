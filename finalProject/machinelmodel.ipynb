{
 "cells": [
  {
   "cell_type": "markdown",
   "metadata": {
    "collapsed": false
   },
   "source": [
    "## Import Required Libraries"
   ]
  },
  {
   "cell_type": "code",
   "execution_count": 47,
   "metadata": {
    "collapsed": true
   },
   "outputs": [],
   "source": [
    "import os\n",
    "from sklearn.model_selection import train_test_split\n",
    "from sklearn.metrics import accuracy_score, precision_score, recall_score, f1_score\n",
    "from keras.preprocessing.image import ImageDataGenerator\n",
    "from keras.utils import load_img, img_to_array\n",
    "from keras.models import Sequential\n",
    "from keras.layers import Conv2D, MaxPooling2D, Flatten, Dense, Dropout\n",
    "from sklearn.preprocessing import LabelBinarizer\n",
    "from keras.optimizers import Adam\n",
    "from joblib import dump\n",
    "from keras.metrics import SparseCategoricalCrossentropy\n",
    "import numpy as np\n",
    "import matplotlib.pyplot as plt"
   ]
  },
  {
   "attachments": {},
   "cell_type": "markdown",
   "metadata": {},
   "source": [
    "## Load the pre-trained model and add a classifier on top of the base model"
   ]
  },
  {
   "cell_type": "code",
   "execution_count": 55,
   "metadata": {},
   "outputs": [
    {
     "name": "stdout",
     "output_type": "stream",
     "text": [
      "Model: \"sequential_3\"\n",
      "_________________________________________________________________\n",
      " Layer (type)                Output Shape              Param #   \n",
      "=================================================================\n",
      " conv2d_12 (Conv2D)          (None, 222, 222, 16)      448       \n",
      "                                                                 \n",
      " max_pooling2d_12 (MaxPoolin  (None, 111, 111, 16)     0         \n",
      " g2D)                                                            \n",
      "                                                                 \n",
      " conv2d_13 (Conv2D)          (None, 109, 109, 32)      4640      \n",
      "                                                                 \n",
      " max_pooling2d_13 (MaxPoolin  (None, 54, 54, 32)       0         \n",
      " g2D)                                                            \n",
      "                                                                 \n",
      " conv2d_14 (Conv2D)          (None, 52, 52, 64)        18496     \n",
      "                                                                 \n",
      " max_pooling2d_14 (MaxPoolin  (None, 26, 26, 64)       0         \n",
      " g2D)                                                            \n",
      "                                                                 \n",
      " conv2d_15 (Conv2D)          (None, 24, 24, 128)       73856     \n",
      "                                                                 \n",
      " max_pooling2d_15 (MaxPoolin  (None, 12, 12, 128)      0         \n",
      " g2D)                                                            \n",
      "                                                                 \n",
      " flatten_3 (Flatten)         (None, 18432)             0         \n",
      "                                                                 \n",
      " dense_15 (Dense)            (None, 512)               9437696   \n",
      "                                                                 \n",
      " dense_16 (Dense)            (None, 256)               131328    \n",
      "                                                                 \n",
      " dense_17 (Dense)            (None, 128)               32896     \n",
      "                                                                 \n",
      " dense_18 (Dense)            (None, 100)               12900     \n",
      "                                                                 \n",
      " dense_19 (Dense)            (None, 80)                8080      \n",
      "                                                                 \n",
      "=================================================================\n",
      "Total params: 9,720,340\n",
      "Trainable params: 9,720,340\n",
      "Non-trainable params: 0\n",
      "_________________________________________________________________\n"
     ]
    }
   ],
   "source": [
    "model = Sequential([\n",
    "    Conv2D(16, (3, 3), activation=\"relu\", input_shape=(224, 224, 3)),\n",
    "    MaxPooling2D(2, 2),\n",
    "    Conv2D(32, (3, 3), activation=\"relu\"),\n",
    "    MaxPooling2D(2, 2),\n",
    "    Conv2D(64, (3, 3), activation=\"relu\"),\n",
    "    MaxPooling2D(2, 2),\n",
    "    Conv2D(128, (3, 3), activation=\"relu\"),\n",
    "    MaxPooling2D(2, 2)])\n",
    "model.add(Flatten())\n",
    "model.add(Dense(512, activation=\"relu\"))\n",
    "model.add(Dense(256, activation=\"relu\"))\n",
    "model.add(Dense(128, activation=\"relu\"))\n",
    "model.add(Dense(100, activation=\"relu\"))\n",
    "model.add(Dense(80, activation=\"softmax\"))\n",
    "\n",
    "\n",
    "\n",
    "model.summary()\n"
   ]
  },
  {
   "attachments": {},
   "cell_type": "markdown",
   "metadata": {},
   "source": [
    "## Define training parameters and callbacks"
   ]
  },
  {
   "cell_type": "code",
   "execution_count": 56,
   "metadata": {},
   "outputs": [
    {
     "name": "stdout",
     "output_type": "stream",
     "text": [
      "Found 22565 images belonging to 80 classes.\n",
      "Found 6505 images belonging to 80 classes.\n"
     ]
    }
   ],
   "source": [
    "adam = Adam(learning_rate=0.001)\n",
    "model.compile(optimizer='adam', loss='categorical_crossentropy', metrics=['accuracy'], run_eagerly=True)\n",
    "bs = 30\n",
    "train_dir = './animals-detection-images-dataset/train'\n",
    "test_dir = \"./animals-detection-images-dataset/test\"\n",
    "train_datagen = ImageDataGenerator(rescale=1.0/255.)\n",
    "test_datagen = ImageDataGenerator(rescale=1.0/255.)\n",
    "train_generator = train_datagen.flow_from_directory(train_dir, batch_size=bs, class_mode='categorical', target_size=(224, 224), shuffle=True)\n",
    "validation_generator = test_datagen.flow_from_directory(test_dir, batch_size=bs, class_mode='categorical', target_size=(224, 224), shuffle=True)\n",
    "\n",
    "\n"
   ]
  },
  {
   "attachments": {},
   "cell_type": "markdown",
   "metadata": {},
   "source": [
    "## Fit Model"
   ]
  },
  {
   "cell_type": "code",
   "execution_count": 57,
   "metadata": {},
   "outputs": [
    {
     "name": "stdout",
     "output_type": "stream",
     "text": [
      "Epoch 1/10\n",
      "752/752 [==============================] - 2287s 3s/step - loss: 3.8278 - accuracy: 0.0950 - val_loss: 4.0458 - val_accuracy: 0.0840\n",
      "Epoch 2/10\n",
      "752/752 [==============================] - 1669s 2s/step - loss: 3.6033 - accuracy: 0.1336 - val_loss: 3.8736 - val_accuracy: 0.1157\n",
      "Epoch 3/10\n",
      "752/752 [==============================] - 1789s 2s/step - loss: 3.3922 - accuracy: 0.1792 - val_loss: 3.7192 - val_accuracy: 0.1343\n",
      "Epoch 4/10\n",
      "752/752 [==============================] - 1649s 2s/step - loss: 3.1716 - accuracy: 0.2154 - val_loss: 3.6591 - val_accuracy: 0.1444\n",
      "Epoch 5/10\n",
      "752/752 [==============================] - 1723s 2s/step - loss: 2.9172 - accuracy: 0.2592 - val_loss: 3.5548 - val_accuracy: 0.1685\n",
      "Epoch 6/10\n",
      "752/752 [==============================] - 1709s 2s/step - loss: 2.5852 - accuracy: 0.3252 - val_loss: 3.6239 - val_accuracy: 0.1897\n",
      "Epoch 7/10\n",
      "752/752 [==============================] - 1639s 2s/step - loss: 2.1930 - accuracy: 0.4023 - val_loss: 3.8128 - val_accuracy: 0.1702\n",
      "Epoch 8/10\n",
      "752/752 [==============================] - 1635s 2s/step - loss: 1.7719 - accuracy: 0.4913 - val_loss: 4.2204 - val_accuracy: 0.1676\n",
      "Epoch 9/10\n",
      "752/752 [==============================] - 1840s 2s/step - loss: 1.3986 - accuracy: 0.5797 - val_loss: 4.5815 - val_accuracy: 0.1668\n",
      "Epoch 10/10\n",
      "752/752 [==============================] - 1704s 2s/step - loss: 1.0977 - accuracy: 0.6583 - val_loss: 5.3874 - val_accuracy: 0.1633\n"
     ]
    }
   ],
   "source": [
    "history = model.fit(train_generator,\n",
    "                              steps_per_epoch=train_generator.samples // bs,\n",
    "                              epochs=10,\n",
    "                              validation_data=validation_generator,\n",
    "                              validation_steps=validation_generator.samples // bs)"
   ]
  },
  {
   "attachments": {},
   "cell_type": "markdown",
   "metadata": {},
   "source": [
    "## Evaluate model"
   ]
  },
  {
   "cell_type": "code",
   "execution_count": 58,
   "metadata": {},
   "outputs": [
    {
     "data": {
      "image/png": "[encoded data removed]",
      "text/plain": [
       "<Figure size 640x480 with 1 Axes>"
      ]
     },
     "metadata": {},
     "output_type": "display_data"
    }
   ],
   "source": [
    "plt.plot(history.history['loss'], label='train_loss')\n",
    "plt.plot(history.history['val_loss'], label='val_loss')\n",
    "plt.plot(history.history['accuracy'], label='train_acc')\n",
    "plt.plot(history.history['val_accuracy'], label='val_acc')\n",
    "plt.legend()\n",
    "plt.show()"
   ]
  },
  {
   "attachments": {},
   "cell_type": "markdown",
   "metadata": {},
   "source": [
    "## Save model"
   ]
  },
  {
   "cell_type": "code",
   "execution_count": null,
   "metadata": {},
   "outputs": [],
   "source": [
    "dump(model, 'Animals_prediction_model.joblib')"
   ]
  }
 ],
 "metadata": {
  "kernelspec": {
   "display_name": "Python 3",
   "language": "python",
   "name": "python3"
  },
  "language_info": {
   "codemirror_mode": {
    "name": "ipython",
    "version": 3
   },
   "file_extension": ".py",
   "mimetype": "text/x-python",
   "name": "python",
   "nbconvert_exporter": "python",
   "pygments_lexer": "ipython3",
   "version": "3.10.9"
  }
 },
 "nbformat": 4,
 "nbformat_minor": 0
}
