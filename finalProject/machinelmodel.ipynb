{
 "cells": [
  {
   "cell_type": "markdown",
   "metadata": {},
   "source": [
    "## Import Required Libraries"
   ]
  },
  {
   "cell_type": "code",
   "execution_count": 1,
   "metadata": {
    "pycharm": {
     "is_executing": true
    }
   },
   "outputs": [],
   "source": [
    "import os\n",
    "from keras.preprocessing.image import ImageDataGenerator\n",
    "from keras.models import Sequential, load_model\n",
    "from keras.layers import Conv2D, MaxPooling2D, Flatten, Dense\n",
    "from keras.optimizers import Adam\n",
    "from joblib import dump\n",
    "import numpy as np\n",
    "import matplotlib.pyplot as plt\n",
    "import pickle\n",
    "from flask import Flask, request, jsonify\n",
    "import requests\n",
    "\n",
    "os.environ[\"KMP_DUPLICATE_LIB_OK\"]=\"TRUE\"\n"
   ]
  },
  {
   "cell_type": "markdown",
   "metadata": {},
   "source": [
    "## Load the pre-trained model and add a classifier on top of the base model"
   ]
  },
  {
   "cell_type": "code",
   "execution_count": 2,
   "metadata": {
    "pycharm": {
     "is_executing": true
    }
   },
   "outputs": [
    {
     "name": "stdout",
     "output_type": "stream",
     "text": [
      "Model: \"sequential\"\n",
      "_________________________________________________________________\n",
      " Layer (type)                Output Shape              Param #   \n",
      "=================================================================\n",
      " conv2d (Conv2D)             (None, 222, 222, 16)      448       \n",
      "                                                                 \n",
      " max_pooling2d (MaxPooling2D  (None, 111, 111, 16)     0         \n",
      " )                                                               \n",
      "                                                                 \n",
      " conv2d_1 (Conv2D)           (None, 109, 109, 32)      4640      \n",
      "                                                                 \n",
      " max_pooling2d_1 (MaxPooling  (None, 54, 54, 32)       0         \n",
      " 2D)                                                             \n",
      "                                                                 \n",
      " conv2d_2 (Conv2D)           (None, 52, 52, 64)        18496     \n",
      "                                                                 \n",
      " max_pooling2d_2 (MaxPooling  (None, 26, 26, 64)       0         \n",
      " 2D)                                                             \n",
      "                                                                 \n",
      " conv2d_3 (Conv2D)           (None, 24, 24, 128)       73856     \n",
      "                                                                 \n",
      " max_pooling2d_3 (MaxPooling  (None, 12, 12, 128)      0         \n",
      " 2D)                                                             \n",
      "                                                                 \n",
      " conv2d_4 (Conv2D)           (None, 10, 10, 256)       295168    \n",
      "                                                                 \n",
      " max_pooling2d_4 (MaxPooling  (None, 5, 5, 256)        0         \n",
      " 2D)                                                             \n",
      "                                                                 \n",
      " flatten (Flatten)           (None, 6400)              0         \n",
      "                                                                 \n",
      " dense (Dense)               (None, 100)               640100    \n",
      "                                                                 \n",
      " dense_1 (Dense)             (None, 80)                8080      \n",
      "                                                                 \n",
      "=================================================================\n",
      "Total params: 1,040,788\n",
      "Trainable params: 1,040,788\n",
      "Non-trainable params: 0\n",
      "_________________________________________________________________\n"
     ]
    }
   ],
   "source": [
    "model = Sequential([\n",
    "    Conv2D(16, (3, 3), activation=\"relu\", input_shape=(224, 224, 3)),\n",
    "    MaxPooling2D(2, 2),\n",
    "    Conv2D(32, (3, 3), activation=\"relu\"),\n",
    "    MaxPooling2D(2, 2),\n",
    "    Conv2D(64, (3, 3), activation=\"relu\"),\n",
    "    MaxPooling2D(2, 2),\n",
    "    Conv2D(128, (3, 3), activation=\"relu\"),\n",
    "    MaxPooling2D(2, 2),\n",
    "    Conv2D(256, (3, 3), activation=\"relu\"),\n",
    "    MaxPooling2D(2, 2)\n",
    "    ])\n",
    "model.add(Flatten())\n",
    "model.add(Dense(100, activation=\"relu\"))\n",
    "model.add(Dense(80, activation=\"softmax\"))\n",
    "\n",
    "\n",
    "\n",
    "model.summary()\n"
   ]
  },
  {
   "cell_type": "markdown",
   "metadata": {},
   "source": [
    "## Define training parameters and callbacks"
   ]
  },
  {
   "cell_type": "code",
   "execution_count": 3,
   "metadata": {
    "pycharm": {
     "is_executing": true
    }
   },
   "outputs": [
    {
     "name": "stdout",
     "output_type": "stream",
     "text": [
      "Found 22566 images belonging to 80 classes.\n",
      "Found 6505 images belonging to 80 classes.\n"
     ]
    }
   ],
   "source": [
    "adam = Adam(learning_rate=0.003)\n",
    "model.compile(optimizer='adam', loss='categorical_crossentropy', metrics=['accuracy'], run_eagerly=True)\n",
    "bs = 100\n",
    "train_dir = \"../images/train/\"\n",
    "test_dir = \"../images/test/\"\n",
    "train_datagen = ImageDataGenerator(rescale=1.0/255.)\n",
    "test_datagen = ImageDataGenerator(rescale=1.0/255.)\n",
    "train_generator = train_datagen.flow_from_directory(train_dir, batch_size=bs, class_mode='categorical', target_size=(224, 224), shuffle=True)\n",
    "validation_generator = test_datagen.flow_from_directory(test_dir, batch_size=bs, class_mode='categorical', target_size=(224, 224), shuffle=True)\n",
    "\n",
    "\n"
   ]
  },
  {
   "cell_type": "markdown",
   "metadata": {},
   "source": [
    "## Fit Model"
   ]
  },
  {
   "cell_type": "code",
   "execution_count": 4,
   "metadata": {
    "pycharm": {
     "is_executing": true
    }
   },
   "outputs": [
    {
     "name": "stdout",
     "output_type": "stream",
     "text": [
      "Epoch 1/13\n",
      "225/225 [==============================] - 2587s 11s/step - loss: 3.8543 - accuracy: 0.1092 - val_loss: 4.1102 - val_accuracy: 0.0588\n",
      "Epoch 2/13\n",
      "225/225 [==============================] - 2932s 13s/step - loss: 3.5456 - accuracy: 0.1584 - val_loss: 3.7749 - val_accuracy: 0.1243\n",
      "Epoch 3/13\n",
      "225/225 [==============================] - 2416s 11s/step - loss: 3.3118 - accuracy: 0.2001 - val_loss: 3.7084 - val_accuracy: 0.1434\n",
      "Epoch 4/13\n",
      "225/225 [==============================] - 1957s 9s/step - loss: 3.1212 - accuracy: 0.2338 - val_loss: 3.5839 - val_accuracy: 0.1738\n",
      "Epoch 5/13\n",
      "225/225 [==============================] - 2339s 10s/step - loss: 2.9246 - accuracy: 0.2655 - val_loss: 3.4057 - val_accuracy: 0.1868\n",
      "Epoch 6/13\n",
      "225/225 [==============================] - 1791s 8s/step - loss: 2.7234 - accuracy: 0.3048 - val_loss: 3.4092 - val_accuracy: 0.1962\n",
      "Epoch 7/13\n",
      "225/225 [==============================] - 1825s 8s/step - loss: 2.5191 - accuracy: 0.3456 - val_loss: 3.2120 - val_accuracy: 0.2195\n",
      "Epoch 8/13\n",
      "225/225 [==============================] - 1452s 6s/step - loss: 2.3121 - accuracy: 0.3880 - val_loss: 3.3344 - val_accuracy: 0.2206\n",
      "Epoch 9/13\n",
      "225/225 [==============================] - 1432s 6s/step - loss: 2.0839 - accuracy: 0.4389 - val_loss: 3.4574 - val_accuracy: 0.2149\n",
      "Epoch 10/13\n",
      "225/225 [==============================] - 1723s 8s/step - loss: 1.8523 - accuracy: 0.4864 - val_loss: 3.5037 - val_accuracy: 0.2169\n",
      "Epoch 11/13\n",
      "225/225 [==============================] - 2184s 10s/step - loss: 1.6420 - accuracy: 0.5324 - val_loss: 3.7107 - val_accuracy: 0.2145\n",
      "Epoch 12/13\n",
      "225/225 [==============================] - 2606s 12s/step - loss: 1.4354 - accuracy: 0.5834 - val_loss: 4.0320 - val_accuracy: 0.2122\n",
      "Epoch 13/13\n",
      "225/225 [==============================] - 1942s 9s/step - loss: 1.2132 - accuracy: 0.6386 - val_loss: 4.4828 - val_accuracy: 0.2028\n"
     ]
    }
   ],
   "source": [
    "history = model.fit(train_generator,\n",
    "                              steps_per_epoch=train_generator.samples // bs,\n",
    "                              epochs=13,\n",
    "                              validation_data=validation_generator,\n",
    "                              validation_steps=validation_generator.samples // bs)"
   ]
  },
  {
   "cell_type": "markdown",
   "metadata": {},
   "source": [
    "## Save model"
   ]
  },
  {
   "cell_type": "code",
   "execution_count": 5,
   "metadata": {
    "pycharm": {
     "is_executing": true
    }
   },
   "outputs": [],
   "source": [
    "model.save('./Animals_prediction_model.h5')\n",
    "weights = model.get_weights()\n",
    "dump(weights, './Animals_prediction_model.joblib')\n",
    "with open('./Animals_prediction_model.pkl', 'wb') as f:\n",
    "    pickle.dump(weights, f)"
   ]
  },
  {
   "attachments": {},
   "cell_type": "markdown",
   "metadata": {},
   "source": [
    "## Evaluate the model"
   ]
  },
  {
   "cell_type": "code",
   "execution_count": 6,
   "metadata": {},
   "outputs": [
    {
     "name": "stdout",
     "output_type": "stream",
     "text": [
      "66/66 [==============================] - 604s 9s/step - loss: 4.4828 - accuracy: 0.2028\n",
      "Test loss: 4.482806205749512\n",
      "Test accuracy: 0.20276710391044617\n"
     ]
    },
    {
     "data": {
      "image/png": "[encoded data removed]",
      "text/plain": [
       "<Figure size 640x480 with 1 Axes>"
      ]
     },
     "metadata": {},
     "output_type": "display_data"
    },
    {
     "data": {
      "image/png": "[encoded data removed]",
      "text/plain": [
       "<Figure size 640x480 with 1 Axes>"
      ]
     },
     "metadata": {},
     "output_type": "display_data"
    }
   ],
   "source": [
    "# Evaluate the model on the test set\n",
    "test_loss, test_acc = model.evaluate(validation_generator)\n",
    "\n",
    "# Print the test loss and accuracy\n",
    "print('Test loss:', test_loss)\n",
    "print('Test accuracy:', test_acc)\n",
    "\n",
    "train_loss = history.history['loss']\n",
    "val_loss = history.history['val_loss']\n",
    "epochs = range(1, len(train_loss) + 1)\n",
    "\n",
    "plt.plot(epochs, train_loss, 'bo', label='Training loss')\n",
    "plt.plot(epochs, val_loss, 'b', label='Validation loss')\n",
    "plt.title('Training and validation loss')\n",
    "plt.xlabel('Epochs')\n",
    "plt.ylabel('Loss')\n",
    "plt.legend()\n",
    "plt.show()\n",
    "\n",
    "# Plot the training and validation accuracy over epochs\n",
    "train_acc = history.history['accuracy']\n",
    "val_acc = history.history['val_accuracy']\n",
    "\n",
    "plt.plot(epochs, train_acc, 'bo', label='Training accuracy')\n",
    "plt.plot(epochs, val_acc, 'b', label='Validation accuracy')\n",
    "plt.title('Training and validation accuracy')\n",
    "plt.xlabel('Epochs')\n",
    "plt.ylabel('Accuracy')\n",
    "plt.legend()\n",
    "plt.show()"
   ]
  },
  {
   "cell_type": "markdown",
   "metadata": {},
   "source": [
    "# Test prediction"
   ]
  },
  {
   "cell_type": "code",
   "execution_count": 13,
   "metadata": {
    "pycharm": {
     "is_executing": true
    }
   },
   "outputs": [
    {
     "name": "stdout",
     "output_type": "stream",
     "text": [
      "The predicted animal category is: [[1.29878375e-08 1.18695509e-09 8.85923335e-09 5.79397893e-04\n",
      "  1.86652898e-07 6.67215930e-03 2.57718988e-04 1.79429344e-06\n",
      "  9.65804929e-07 2.34968613e-08 2.36000687e-05 1.38999405e-03\n",
      "  4.09087224e-05 7.30897737e-05 5.25916973e-03 1.60249518e-04\n",
      "  4.00822870e-07 8.85085821e-01 2.12625673e-05 7.94882217e-05\n",
      "  1.29066801e-04 3.64984004e-07 9.59635247e-03 1.53476710e-03\n",
      "  2.97233078e-06 2.57822439e-08 1.25548583e-09 2.76776753e-08\n",
      "  9.44353360e-06 4.86124163e-09 2.00959598e-03 6.37284714e-08\n",
      "  3.02413468e-06 3.31934687e-04 6.53321131e-09 7.15983006e-08\n",
      "  5.72033413e-02 3.08058816e-06 1.41693008e-05 8.96394253e-04\n",
      "  3.01827299e-07 2.25943331e-05 3.95231439e-08 5.55204679e-07\n",
      "  9.90952529e-08 2.60740379e-03 7.09170024e-07 2.93705356e-03\n",
      "  9.00243002e-04 3.31237561e-06 3.16079204e-05 1.17762795e-06\n",
      "  3.09960448e-08 4.40950644e-05 2.92142062e-07 1.94620533e-08\n",
      "  5.55824772e-06 4.25294679e-08 3.59883672e-03 6.37361081e-05\n",
      "  1.78919220e-03 1.63342236e-04 1.78777645e-05 1.12012532e-02\n",
      "  8.75996833e-04 6.94747199e-04 2.27241311e-04 4.36468866e-07\n",
      "  5.75654803e-06 3.68012988e-04 2.48594326e-03 6.41987867e-08\n",
      "  1.69451835e-06 5.39116503e-04 1.21218645e-05 1.07673323e-07\n",
      "  2.31660593e-07 4.68361714e-06 1.33681742e-05 1.39667422e-09]]\n"
     ]
    }
   ],
   "source": [
    "import requests\n",
    "\n",
    "# Define the Flask application endpoint URL\n",
    "url = \"http://localhost:5050/predict\"\n",
    "\n",
    "# Load the image file as bytes\n",
    "with open(\"./predict/3.jpg\", \"rb\") as image_file:\n",
    "    image_data = image_file.read()\n",
    "\n",
    "# Send a POST request to the Flask application with the image file\n",
    "response = requests.post(url, files={\"file\": image_data})\n",
    "\n",
    "# Parse the response to get the predicted animal category\n",
    "if response.status_code == 200:\n",
    "    result = response.json()\n",
    "    prediction = result[\"prediction\"]\n",
    "    print(f\"The predicted animal category is: {prediction}\")\n",
    "else:\n",
    "    print(\"Error: Failed to get prediction from Flask application.\")"
   ]
  }
 ],
 "metadata": {
  "kernelspec": {
   "display_name": "Python 3 (ipykernel)",
   "language": "python",
   "name": "python3"
  },
  "language_info": {
   "codemirror_mode": {
    "name": "ipython",
    "version": 3
   },
   "file_extension": ".py",
   "mimetype": "text/x-python",
   "name": "python",
   "nbconvert_exporter": "python",
   "pygments_lexer": "ipython3",
   "version": "3.10.9"
  }
 },
 "nbformat": 4,
 "nbformat_minor": 1
}
