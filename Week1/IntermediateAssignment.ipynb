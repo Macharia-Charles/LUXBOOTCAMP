{
 "cells": [
  {
   "cell_type": "code",
   "execution_count": null,
   "metadata": {
    "collapsed": true
   },
   "outputs": [],
   "source": []
  },
  {
   "cell_type": "code",
   "execution_count": null,
   "outputs": [],
   "source": [
    "import requests\n",
    "import pandas as pd\n",
    "\n",
    "# Make a request to the API to get results\n",
    "url = \"https://randomuser.me/api/?results=5000\"\n",
    "response = requests.get(url)\n",
    "\n",
    "# Convert the response to a Pandas DataFrame\n",
    "data = response.json()\n",
    "df = pd.DataFrame(data[\"results\"])\n",
    "\n",
    "# Filter the DataFrame to include only male users\n",
    "df_male = df[df[\"gender\"] == \"male\"]\n",
    "\n",
    "# Print the top 100 male users\n",
    "print(df_male.head(100))\n",
    "df_male"
   ],
   "metadata": {
    "collapsed": false
   }
  },
  {
   "cell_type": "code",
   "execution_count": 10,
   "outputs": [],
   "source": [],
   "metadata": {
    "collapsed": false
   }
  },
  {
   "cell_type": "code",
   "execution_count": null,
   "outputs": [],
   "source": [],
   "metadata": {
    "collapsed": false
   }
  }
 ],
 "metadata": {
  "kernelspec": {
   "display_name": "Python 3",
   "language": "python",
   "name": "python3"
  },
  "language_info": {
   "codemirror_mode": {
    "name": "ipython",
    "version": 2
   },
   "file_extension": ".py",
   "mimetype": "text/x-python",
   "name": "python",
   "nbconvert_exporter": "python",
   "pygments_lexer": "ipython2",
   "version": "2.7.6"
  }
 },
 "nbformat": 4,
 "nbformat_minor": 0
}
